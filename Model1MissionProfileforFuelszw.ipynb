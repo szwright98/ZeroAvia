{
  "nbformat": 4,
  "nbformat_minor": 0,
  "metadata": {
    "colab": {
      "name": "Model1MissionProfileforFuelszw.ipynb",
      "provenance": [],
      "include_colab_link": true
    },
    "kernelspec": {
      "name": "python3",
      "display_name": "Python 3"
    },
    "language_info": {
      "name": "python"
    }
  },
  "cells": [
    {
      "cell_type": "markdown",
      "metadata": {
        "id": "view-in-github",
        "colab_type": "text"
      },
      "source": [
        "<a href=\"https://colab.research.google.com/github/szwright98/ZeroAvia/blob/master/Model1MissionProfileforFuelszw.ipynb\" target=\"_parent\"><img src=\"https://colab.research.google.com/assets/colab-badge.svg\" alt=\"Open In Colab\"/></a>"
      ]
    },
    {
      "cell_type": "code",
      "execution_count": 54,
      "metadata": {
        "id": "RglvIb4qOHO6",
        "colab": {
          "base_uri": "https://localhost:8080/",
          "height": 108
        },
        "outputId": "86c90b98-de9a-4d68-a3f6-2e8d2f13024f"
      },
      "outputs": [
        {
          "output_type": "execute_result",
          "data": {
            "application/vnd.google.colaboratory.intrinsic+json": {
              "type": "string"
            },
            "text/plain": [
              "'\\nclass mission_profile:\\n\\n    def __init__(self):\\n    class start_up_phase(mp_phase):\\n        def __init__(self):\\n            super().__init__()\\n            self.phase = 1\\n    class taxi_phase(mp_phase):\\n        def __init__(self):\\n            super().__init__()\\n            self.phase = 2\\n    class take_off_phase(mp_phase):\\n        def __init__(self):\\n            super().__init__()\\n            self.phase = 3\\n    class climb_phase(mp_phase):\\n        def __init__(self):\\n            super().__init__()\\n            self.phase = 4\\n    class cruise_phase(mp_phase):\\n        def __init__(self):\\n            super().__init__()\\n            self.phase = 5\\n    class descent_phase(mp_phase):\\n        def __init__(self):\\n            super().__init__()\\n            self.phase = 6\\n    class go_around_phase(mp_phase):\\n        def __init__(self):\\n            super().__init__()\\n            self.phase = 7\\n    class land_phase(mp_phase):\\n        def __init__(self):\\n            super().__init__()\\n            self.phase = 8\\n            '"
            ]
          },
          "metadata": {},
          "execution_count": 54
        }
      ],
      "source": [
        "class mp_phase:\n",
        "    def __init__(self, num = 0, powfrac = 0, dur = 0, min_dur = 0, max_dur = 0, ref_alt = 0, alt_start = 0, alt_end = 0, cool_up = 0, cool_low = 0):\n",
        "        self.phase = num # units: none, numerical designation of flight phase (1 = start-up, 2 = taxi, etc.) \n",
        "        self.propulsion_system_pwr = powfrac  # units: \n",
        "        self.duration = dur # units:\n",
        "        self.duration_min = min_dur\n",
        "        self.duration_max = max_dur\n",
        "        self.ref_altitude = ref_alt #units \n",
        "        self.altitude_start = 0 # units: \n",
        "        self.altitude_end = 0 # units: \n",
        "        self.coolant_upper = 0 # units: \n",
        "        self.coolant_lower = 0 # units:\n",
        "    def phase_powertime(self, motor_eff = .98):\n",
        "        return self.duration * self.propulsion_system_pwr * (1./(motor_eff))\n",
        "    def phase_energy(self, max_motor_power, motor_eff = .98):\n",
        "        return self.duration * self.propulsion_system_pwr * max_motor_power*(1./(motor_eff))\n",
        "\"\"\"\n",
        "class mission_profile:\n",
        "\n",
        "    def __init__(self):\n",
        "    class start_up_phase(mp_phase):\n",
        "        def __init__(self):\n",
        "            super().__init__()\n",
        "            self.phase = 1\n",
        "    class taxi_phase(mp_phase):\n",
        "        def __init__(self):\n",
        "            super().__init__()\n",
        "            self.phase = 2\n",
        "    class take_off_phase(mp_phase):\n",
        "        def __init__(self):\n",
        "            super().__init__()\n",
        "            self.phase = 3\n",
        "    class climb_phase(mp_phase):\n",
        "        def __init__(self):\n",
        "            super().__init__()\n",
        "            self.phase = 4\n",
        "    class cruise_phase(mp_phase):\n",
        "        def __init__(self):\n",
        "            super().__init__()\n",
        "            self.phase = 5\n",
        "    class descent_phase(mp_phase):\n",
        "        def __init__(self):\n",
        "            super().__init__()\n",
        "            self.phase = 6\n",
        "    class go_around_phase(mp_phase):\n",
        "        def __init__(self):\n",
        "            super().__init__()\n",
        "            self.phase = 7\n",
        "    class land_phase(mp_phase):\n",
        "        def __init__(self):\n",
        "            super().__init__()\n",
        "            self.phase = 8\n",
        "            \"\"\""
      ]
    },
    {
      "cell_type": "code",
      "source": [
        "#test_mp = mission_profile()\n",
        "\n",
        "### MAKE THIS A FUNCTION TO TAKE INPUTS AND ORDER THEM INTO A LIST OF MISSION PROFILE OBJECTS\n",
        "def get_MissionProfileList(phase_nums,power_fractions,ref_durations):\n",
        "  ph = []\n",
        "  for x in range(len(phase_nums)):\n",
        "    #print(len(ph))\n",
        "    phase_obj = mp_phase(phase_nums[x],power_fractions[x],ref_durations[x])\n",
        "    ph.append(phase_obj)\n",
        "  return ph \n",
        "  #print('done')\n",
        "#print(ph)\n",
        "\n",
        "### MAKE THIS A FUNCTION THAT TAKES IN MAX MOTOR POWER AND GIVES TOTAL MOTORSIDE (I.E. WITHOUT ANY ENERGY LOSSES FROM THE POWERTRAIN) ENERGY PER PHASE FOR THE FLIGHT MISSION PROFILE\n",
        "def get_MotorsideEnergy(phaselist, max_power):\n",
        "  tot_en = [] \n",
        "  for x in range(len(phaselist)):\n",
        "    tot_en.append(phaselist[x].phase_energy(max_power))\n",
        "  return tot_en\n",
        "\n",
        "#print(tot_en)\n",
        "#ph[0].propulsion_system_pwr = .1\n",
        "#print(ph[0].propulsion_system_pwr)\n",
        "#test_cr = test_mp.cruise_phase()\n",
        "#test_cr.duration = 1.\n",
        "#test_cr.propulsion_system_pwr = .5\n",
        "#print(test_cr.duration)\n",
        "#a = test_cr.phase_powertime()\n",
        "#c = test_cr.phase_energy(600, motor_eff = 0.5)\n",
        "#b = test_cr.phase_energy(600)\n",
        "#print(a)\n",
        "#print(b)\n",
        "#print(c)\n",
        "#print(test_cr.abb)"
      ],
      "metadata": {
        "id": "8gKZm-Emc-bw"
      },
      "execution_count": 55,
      "outputs": []
    },
    {
      "cell_type": "code",
      "source": [
        "#import test\n",
        "\n",
        "\n",
        "tank_volume = 10 \n",
        "inter_qty = 3\n",
        "max_power = 600\n",
        "\n",
        "class fuel_tank:\n",
        "    def __init__(self,tank_volume = 0):\n",
        "        self.max = tank_volume\n",
        "        self.min = 0\n",
        "        self.specific_energy = 39.4 #kWhr/kg\n",
        "        self.energy_density = 1.479 #kWhr/L\n",
        "\n",
        "    def specific_energy(self, specific_energy):\n",
        "        # return specific energy of tank volume\n",
        "        # base value is in kWhr/kg\n",
        "        return specific_energy\n",
        "    \n",
        "    def fuel_vol_needed(self, en_needed):\n",
        "        # calculate fuel volume needed as a function of the energy needed and energy density\n",
        "        # takes en_needed in kWhr\n",
        "        # energy density is in kWhr/L\n",
        "        # returns fuel mass in liters\n",
        "        return en_needed/self.energy_density\n",
        "\n",
        "    def fuel_mass_needed (self, en_needed):\n",
        "        # calculate fuel mass needed as a function of the energy needed (mission phase or overall) and the specific energy. \n",
        "        # takes needed in kWhr\n",
        "        # specific energy is in kWhr/kg \n",
        "        # returns fuel mass in kg\n",
        "        return en_needed/self.specific_energy \n",
        "\n",
        "    def __repr__(self):\n",
        "        return \"fuel_tank('{}')\".format(self.tank_volume)\n",
        "\n",
        "    def __str__(self):\n",
        "        return \"fuel tank volume: {}\".format(self.tank_volume)\n",
        "        \n",
        "class fuel_cell:\n",
        "     def __init__(self):\n",
        "         self.efficiency = .5\n",
        "     def get_losses(self,phase_info):\n",
        "        losses = []\n",
        "        for x in range(len(phase_info)):\n",
        "          losses.append(phase_info[x]*(1-self.efficiency))\n",
        "        return losses\n",
        "\n",
        "\n",
        "class Pow_Dis_Unt:\n",
        "    def __init__(self, AWG = 0, material = '', FC_cable_length = 0, PDU_cable_length = 0, contactor_resistance = 0):\n",
        "        self.AWG = AWG\n",
        "        self.material = material\n",
        "        self.FC_cable_length = FC_cable_length\n",
        "        self.PDU_cable_length = PDU_cable_length\n",
        "        self.contactor_resistance = contactor_resistance\n",
        "        self.efficiency = 1.\n",
        "    def get_losses(self,phase_info):\n",
        "        losses = []\n",
        "        for x in range(len(phase_info)):\n",
        "          losses.append(phase_info[x]*(1-self.efficiency))\n",
        "        return losses\n",
        "\n",
        "class inverter:\n",
        "    def __init__(self, max_power = 0, mass = 0, volume = 0, efficiency = .98):\n",
        "        self.max_power = max_power\n",
        "        self.mass = mass\n",
        "        self.volume = volume\n",
        "        self.efficiency = efficiency\n",
        "        self.num_of_inverters = 0\n",
        "        self.chain_efficiency = efficiency**self.num_of_inverters\n",
        "    def get_losses(self,phase_info):\n",
        "        losses = []\n",
        "        for x in range(len(phase_info)):\n",
        "          #print(phase_info)\n",
        "          losses.append(phase_info[x]*(1-self.efficiency))\n",
        "        return losses\n",
        "\n",
        "class motor:\n",
        "    def __init__(self, max_power = 0, max_torque = 0,weight = 0, volume = 0, nominal_speed = 0,efficiency = .97):\n",
        "        self.max_power = max_power\n",
        "        self.max_torque = max_torque\n",
        "        self.weight = weight\n",
        "        self.volume = volume\n",
        "        self.max_nominal_speed = nominal_speed\n",
        "        self.efficiency = efficiency\n",
        "    def get_losses(self,phase_info):\n",
        "        losses = []\n",
        "        for x in range(len(phase_info)):\n",
        "          losses.append(phase_info[x]*(1-self.efficiency))\n",
        "        return losses"
      ],
      "metadata": {
        "id": "EdzmsIlNOMdr"
      },
      "execution_count": 56,
      "outputs": []
    },
    {
      "cell_type": "code",
      "source": [
        "## create the objects \n",
        "\n",
        "\n",
        "## inputs from mission flight profile go here.\n",
        "max_power1 = 600\n",
        "power_fractions1 = [.05,.15,1,.8,.5,.2,.8,.15]\n",
        "ref_durations1 = [.25,.167,.0833,.333,1,.167,.167,.167]\n",
        "phase_nums1 = [1, 2, 3, 4, 5, 6, 7, 8]\n",
        "\n",
        "mprof1 = get_MissionProfileList(phase_nums1,power_fractions1,ref_durations1)\n",
        "\n",
        "\n",
        "\n",
        "fueltank_in = fuel_tank()\n",
        "fuelcell_in = fuel_cell()\n",
        "PowDisUnit_in = Pow_Dis_Unt()\n",
        "inv_in = inverter()\n",
        "motor_in = motor(max_power = max_power1)\n",
        "\n",
        "\n",
        "tot_en1 = get_MotorsideEnergy(mprof1, motor_in.max_power)\n",
        "\n"
      ],
      "metadata": {
        "id": "cqaOiCcmh39P"
      },
      "execution_count": 57,
      "outputs": []
    },
    {
      "cell_type": "code",
      "source": [
        "\"\"\"\n",
        "import numpy as np\n",
        "index = np.where(mprof1.phase == 1)\n",
        "\n",
        "print(index)\n",
        "\"\"\""
      ],
      "metadata": {
        "colab": {
          "base_uri": "https://localhost:8080/",
          "height": 38
        },
        "id": "EReWiJg13IL7",
        "outputId": "095aeb7f-eee8-406a-f292-0bfb42c77cbe"
      },
      "execution_count": 58,
      "outputs": [
        {
          "output_type": "execute_result",
          "data": {
            "application/vnd.google.colaboratory.intrinsic+json": {
              "type": "string"
            },
            "text/plain": [
              "'\\nimport numpy as np\\nindex = np.where(mprof1.phase == 1)\\n\\nprint(index)\\n'"
            ]
          },
          "metadata": {},
          "execution_count": 58
        }
      ]
    },
    {
      "cell_type": "code",
      "source": [
        "## define more functions \n",
        "\n",
        "## GET THE MOTOR ENERGY/POWER LOSSES PER PHASE MAKE THIS A METHOD FOR MOTOR CLASS\n",
        "def get_motor_losses(phase_info,motor_eta):\n",
        "  return\n",
        "\n",
        "def get_inverter_losses(phase_info,inv_eta):\n",
        "  inv_ens = []\n",
        "  for x in range(len(phase_info)):\n",
        "    inv_ens.append(phase_info[x]*(1-inv_eta))\n",
        "  return inv_ens\n",
        "\n",
        "def get_fcell_losses(phase_info,fcell_eta):\n",
        "  fcell_ens = []\n",
        "  for x in range(len(phase_info)):\n",
        "    fcell_ens.append(phase_info[x]*(1-fcell_eta))\n",
        "  return fcell_ens"
      ],
      "metadata": {
        "id": "eID2o5bWRlur"
      },
      "execution_count": 59,
      "outputs": []
    },
    {
      "cell_type": "code",
      "source": [
        "def get_PowerTrain_Energy(motor,fuelcell,inverter,phase_energy):\n",
        "  a = motor.get_losses(phase_energy)\n",
        "  b = inverter.get_losses(phase_energy)\n",
        "  c = fuelcell.get_losses(phase_energy)\n",
        "  fuel_energy = [o + a + b + c for o,a,b,c in zip(phase_energy,a,b,c)]\n",
        "  return fuel_energy\n",
        "fuel_energy = get_PowerTrain_Energy(motor_in, fuelcell_in, inv_in, tot_en1)"
      ],
      "metadata": {
        "id": "M5DV9voKe8lw"
      },
      "execution_count": 60,
      "outputs": []
    },
    {
      "cell_type": "code",
      "source": [
        "import numpy as np\n",
        "\n",
        "print(fueltank_in.fuel_mass_needed(np.sum(fuel_energy)))\n",
        "print(fueltank_in.fuel_vol_needed(np.sum(fuel_energy)))\n"
      ],
      "metadata": {
        "colab": {
          "base_uri": "https://localhost:8080/"
        },
        "id": "NxiDEk9qglyi",
        "outputId": "02c3810a-53f7-49b7-a442-da9f77850797"
      },
      "execution_count": 61,
      "outputs": [
        {
          "output_type": "stream",
          "name": "stdout",
          "text": [
            "25.995778514451477\n",
            "692.5176967338662\n"
          ]
        }
      ]
    },
    {
      "cell_type": "code",
      "source": [
        ""
      ],
      "metadata": {
        "id": "1XZVHR_LaYFJ"
      },
      "execution_count": 61,
      "outputs": []
    }
  ]
}